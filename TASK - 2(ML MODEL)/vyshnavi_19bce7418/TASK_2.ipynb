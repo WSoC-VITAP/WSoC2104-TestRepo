{
  "nbformat": 4,
  "nbformat_minor": 0,
  "metadata": {
    "colab": {
      "name": "TASK-2.ipynb",
      "provenance": []
    },
    "kernelspec": {
      "name": "python3",
      "display_name": "Python 3"
    },
    "language_info": {
      "name": "python"
    }
  },
  "cells": [
    {
      "cell_type": "code",
      "metadata": {
        "colab": {
          "base_uri": "https://localhost:8080/"
        },
        "id": "gJEMaZiucs5z",
        "outputId": "530a5afc-626f-4330-a608-40b34292dbe2"
      },
      "source": [
        "import numpy as np\n",
        "import pandas as pd\n",
        "import matplotlib.pyplot as plt\n",
        "%matplotlib inline\n",
        "import seaborn as sns\n",
        "from sklearn.model_selection import train_test_split\n",
        "from sklearn.metrics import accuracy_score\n",
        "df = pd.read_csv('vyshnavi.csv')\n",
        "df.columns=['Id','Ri','Na','Mg','Al','Si','K','Ca','Ba','Fe','Type of glass']\n",
        "df.info()"
      ],
      "execution_count": 6,
      "outputs": [
        {
          "output_type": "stream",
          "text": [
            "<class 'pandas.core.frame.DataFrame'>\n",
            "RangeIndex: 213 entries, 0 to 212\n",
            "Data columns (total 11 columns):\n",
            " #   Column         Non-Null Count  Dtype  \n",
            "---  ------         --------------  -----  \n",
            " 0   Id             213 non-null    int64  \n",
            " 1   Ri             213 non-null    float64\n",
            " 2   Na             213 non-null    float64\n",
            " 3   Mg             213 non-null    float64\n",
            " 4   Al             213 non-null    float64\n",
            " 5   Si             213 non-null    float64\n",
            " 6   K              213 non-null    float64\n",
            " 7   Ca             213 non-null    float64\n",
            " 8   Ba             213 non-null    float64\n",
            " 9   Fe             213 non-null    float64\n",
            " 10  Type of glass  213 non-null    int64  \n",
            "dtypes: float64(9), int64(2)\n",
            "memory usage: 18.4 KB\n"
          ],
          "name": "stdout"
        }
      ]
    },
    {
      "cell_type": "code",
      "metadata": {
        "colab": {
          "base_uri": "https://localhost:8080/"
        },
        "id": "WXKTBJpRdVU5",
        "outputId": "19c95ed8-7579-4518-b05b-f2fc13000f8a"
      },
      "source": [
        "df.drop(['Id'],axis=1,inplace=True)\n",
        "df.info()"
      ],
      "execution_count": 4,
      "outputs": [
        {
          "output_type": "stream",
          "text": [
            "<class 'pandas.core.frame.DataFrame'>\n",
            "RangeIndex: 213 entries, 0 to 212\n",
            "Data columns (total 10 columns):\n",
            " #   Column         Non-Null Count  Dtype  \n",
            "---  ------         --------------  -----  \n",
            " 0   Ri             213 non-null    float64\n",
            " 1   Na             213 non-null    float64\n",
            " 2   Mg             213 non-null    float64\n",
            " 3   Al             213 non-null    float64\n",
            " 4   Si             213 non-null    float64\n",
            " 5   K              213 non-null    float64\n",
            " 6   Ca             213 non-null    float64\n",
            " 7   Ba             213 non-null    float64\n",
            " 8   Fe             213 non-null    float64\n",
            " 9   Type of glass  213 non-null    int64  \n",
            "dtypes: float64(9), int64(1)\n",
            "memory usage: 16.8 KB\n"
          ],
          "name": "stdout"
        }
      ]
    },
    {
      "cell_type": "code",
      "metadata": {
        "colab": {
          "base_uri": "https://localhost:8080/"
        },
        "id": "N5XE22CcdbjQ",
        "outputId": "d2a162bc-60cc-4441-b55a-e58f85897ff7"
      },
      "source": [
        "X=df.drop('Type of glass',axis=1)\n",
        "Y=df['Type of glass']\n",
        "X_train, X_test, Y_train, Y_test=train_test_split(X,Y,test_size=0.2)\n",
        "from sklearn.linear_model import LinearRegression\n",
        "LR = LinearRegression()\n",
        "LR.fit(X_train,Y_train)\n",
        "print(LR.score(X_test,Y_test))\n"
      ],
      "execution_count": 7,
      "outputs": [
        {
          "output_type": "stream",
          "text": [
            "0.8126022216882618\n"
          ],
          "name": "stdout"
        }
      ]
    },
    {
      "cell_type": "code",
      "metadata": {
        "colab": {
          "base_uri": "https://localhost:8080/"
        },
        "id": "0GDAVis6dslB",
        "outputId": "5f858a80-2406-4677-a7bd-d8cd5dff34c7"
      },
      "source": [
        "from sklearn.ensemble import RandomForestRegressor\n",
        "RFR = RandomForestRegressor()\n",
        "RFR.fit(X_train,Y_train)\n",
        "print(RFR.score(X_test,Y_test))"
      ],
      "execution_count": 8,
      "outputs": [
        {
          "output_type": "stream",
          "text": [
            "0.9744876941457586\n"
          ],
          "name": "stdout"
        }
      ]
    },
    {
      "cell_type": "code",
      "metadata": {
        "colab": {
          "base_uri": "https://localhost:8080/"
        },
        "id": "V2Q6mxBfd1oQ",
        "outputId": "f56ad353-4999-41f1-f13c-5e0bbdc09b87"
      },
      "source": [
        "from sklearn.tree import DecisionTreeRegressor\n",
        "DTR = DecisionTreeRegressor()\n",
        "DTR.fit(X_train,Y_train)\n",
        "print(DTR.score(X_test,Y_test))"
      ],
      "execution_count": 9,
      "outputs": [
        {
          "output_type": "stream",
          "text": [
            "0.948626045400239\n"
          ],
          "name": "stdout"
        }
      ]
    },
    {
      "cell_type": "code",
      "metadata": {
        "colab": {
          "base_uri": "https://localhost:8080/"
        },
        "id": "FP_mQOlad9o0",
        "outputId": "b2427664-9c30-4d41-d1c2-dd4b649ea1dd"
      },
      "source": [
        "from sklearn.svm import SVR\n",
        "svr = SVR()\n",
        "svr.fit(X_train,Y_train)\n",
        "print(svr.score(X_test,Y_test))"
      ],
      "execution_count": 10,
      "outputs": [
        {
          "output_type": "stream",
          "text": [
            "0.8358779440750106\n"
          ],
          "name": "stdout"
        }
      ]
    }
  ]
}